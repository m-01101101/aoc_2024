{
 "cells": [
  {
   "cell_type": "code",
   "execution_count": 20,
   "metadata": {},
   "outputs": [
    {
     "data": {
      "text/plain": [
       "1110981"
      ]
     },
     "execution_count": 20,
     "metadata": {},
     "output_type": "execute_result"
    }
   ],
   "source": [
    "with open('../inputs/day01.txt', 'r') as file:\n",
    "    _left_numbers = []\n",
    "    _right_numbers = []\n",
    "    \n",
    "    data = file.read()\n",
    "    for line in data.split('\\n'):\n",
    "        left, right = line.split()  # Split on whitespace\n",
    "        _left_numbers.append(int(left))\n",
    "        _right_numbers.append(int(right))\n",
    "\n",
    "_left_numbers.sort()\n",
    "_right_numbers.sort()\n",
    "\n",
    "left_numbers = _left_numbers\n",
    "right_numbers = _right_numbers\n",
    "\n",
    "\n",
    "sum([abs(left - right) for left, right in zip(left_numbers, right_numbers)])\n"
   ]
  },
  {
   "cell_type": "code",
   "execution_count": 24,
   "metadata": {},
   "outputs": [
    {
     "data": {
      "text/plain": [
       "24869388"
      ]
     },
     "execution_count": 24,
     "metadata": {},
     "output_type": "execute_result"
    }
   ],
   "source": [
    "from collections import Counter\n",
    "\n",
    "lookup = Counter(right_numbers)\n",
    "\n",
    "sum([lookup[left] * left for left in left_numbers])\n"
   ]
  }
 ],
 "metadata": {
  "kernelspec": {
   "display_name": "Python 3",
   "language": "python",
   "name": "python3"
  },
  "language_info": {
   "codemirror_mode": {
    "name": "ipython",
    "version": 3
   },
   "file_extension": ".py",
   "mimetype": "text/x-python",
   "name": "python",
   "nbconvert_exporter": "python",
   "pygments_lexer": "ipython3",
   "version": "3.11.4"
  }
 },
 "nbformat": 4,
 "nbformat_minor": 2
}
